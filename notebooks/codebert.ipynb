{
 "cells": [
  {
   "cell_type": "code",
   "execution_count": 1,
   "metadata": {},
   "outputs": [
    {
     "name": "stdout",
     "output_type": "stream",
     "text": [
      "['/Users/dish/Code/codeQual', '/Users/dish/anaconda3/envs/codequal/lib/python310.zip', '/Users/dish/anaconda3/envs/codequal/lib/python3.10', '/Users/dish/anaconda3/envs/codequal/lib/python3.10/lib-dynload', '', '/Users/dish/anaconda3/envs/codequal/lib/python3.10/site-packages']\n"
     ]
    }
   ],
   "source": [
    "# set root dir in system path\n",
    "import sys\n",
    "sys.path.insert(0, '/Users/dish/Code/codeQual')\n",
    "print(sys.path)\n",
    "from codeQual import set_device\n",
    "device = set_device.set()"
   ]
  },
  {
   "cell_type": "code",
   "execution_count": 2,
   "metadata": {},
   "outputs": [],
   "source": [
    "MODEL_NAME = 'microsoft/codebert-base'\n",
    "DATESET = '../data/hf_code_qual_dataset_v1'"
   ]
  },
  {
   "cell_type": "code",
   "execution_count": 3,
   "metadata": {},
   "outputs": [
    {
     "name": "stderr",
     "output_type": "stream",
     "text": [
      "/Users/dish/anaconda3/envs/codequal/lib/python3.10/site-packages/tqdm/auto.py:21: TqdmWarning: IProgress not found. Please update jupyter and ipywidgets. See https://ipywidgets.readthedocs.io/en/stable/user_install.html\n",
      "  from .autonotebook import tqdm as notebook_tqdm\n",
      "Some weights of RobertaForSequenceClassification were not initialized from the model checkpoint at microsoft/codebert-base and are newly initialized: ['classifier.dense.bias', 'classifier.dense.weight', 'classifier.out_proj.bias', 'classifier.out_proj.weight']\n",
      "You should probably TRAIN this model on a down-stream task to be able to use it for predictions and inference.\n"
     ]
    },
    {
     "name": "stdout",
     "output_type": "stream",
     "text": [
      "RobertaConfig {\n",
      "  \"_name_or_path\": \"microsoft/codebert-base\",\n",
      "  \"architectures\": [\n",
      "    \"RobertaModel\"\n",
      "  ],\n",
      "  \"attention_probs_dropout_prob\": 0.1,\n",
      "  \"bos_token_id\": 0,\n",
      "  \"classifier_dropout\": null,\n",
      "  \"eos_token_id\": 2,\n",
      "  \"hidden_act\": \"gelu\",\n",
      "  \"hidden_dropout_prob\": 0.1,\n",
      "  \"hidden_size\": 768,\n",
      "  \"id2label\": {\n",
      "    \"0\": \"LABEL_0\",\n",
      "    \"1\": \"LABEL_1\",\n",
      "    \"2\": \"LABEL_2\"\n",
      "  },\n",
      "  \"initializer_range\": 0.02,\n",
      "  \"intermediate_size\": 3072,\n",
      "  \"label2id\": {\n",
      "    \"LABEL_0\": 0,\n",
      "    \"LABEL_1\": 1,\n",
      "    \"LABEL_2\": 2\n",
      "  },\n",
      "  \"layer_norm_eps\": 1e-05,\n",
      "  \"max_length\": 512,\n",
      "  \"max_position_embeddings\": 514,\n",
      "  \"model_type\": \"roberta\",\n",
      "  \"num_attention_heads\": 12,\n",
      "  \"num_hidden_layers\": 12,\n",
      "  \"output_past\": true,\n",
      "  \"pad_token_id\": 1,\n",
      "  \"position_embedding_type\": \"absolute\",\n",
      "  \"transformers_version\": \"4.39.3\",\n",
      "  \"type_vocab_size\": 1,\n",
      "  \"use_cache\": true,\n",
      "  \"vocab_size\": 50265\n",
      "}\n",
      "\n"
     ]
    }
   ],
   "source": [
    "from transformers import AutoModelForSequenceClassification, AutoTokenizer\n",
    "model_name = MODEL_NAME\n",
    "num_classes = 3\n",
    "model = AutoModelForSequenceClassification.from_pretrained(model_name, num_labels=num_classes, max_length=512).to(device)\n",
    "tokenizer = AutoTokenizer.from_pretrained(\"microsoft/codebert-base\")\n",
    "tokenizer.add_special_tokens({\"pad_token\": \"[PAD]\"})\n",
    "print(model.config)"
   ]
  },
  {
   "cell_type": "code",
   "execution_count": 4,
   "metadata": {},
   "outputs": [
    {
     "data": {
      "text/plain": [
       "DatasetDict({\n",
       "    train: Dataset({\n",
       "        features: ['problem_id', 'problem', 'submission_id', 'submission', 'label', 'input_ids', 'attention_mask'],\n",
       "        num_rows: 1650\n",
       "    })\n",
       "    validation: Dataset({\n",
       "        features: ['problem_id', 'problem', 'submission_id', 'submission', 'label', 'input_ids', 'attention_mask'],\n",
       "        num_rows: 300\n",
       "    })\n",
       "    test: Dataset({\n",
       "        features: ['problem_id', 'problem', 'submission_id', 'submission', 'label', 'input_ids', 'attention_mask'],\n",
       "        num_rows: 300\n",
       "    })\n",
       "})"
      ]
     },
     "execution_count": 4,
     "metadata": {},
     "output_type": "execute_result"
    }
   ],
   "source": [
    "from transformers import AutoTokenizer\n",
    "from datasets import Dataset, DatasetDict, load_dataset\n",
    "code_qual_dataset = DatasetDict.load_from_disk(DATESET)\n",
    "\n",
    "def tokenize(batch):\n",
    "    return tokenizer(batch[\"submission\"], padding=True, truncation=True)\n",
    "\n",
    "\n",
    "codebert_encoded: DatasetDict = code_qual_dataset.map(tokenize, batched=True, batch_size=None)\n",
    "codebert_encoded"
   ]
  },
  {
   "cell_type": "code",
   "execution_count": 5,
   "metadata": {},
   "outputs": [],
   "source": [
    "from torch.nn.functional import cross_entropy\n",
    "import torch\n",
    "\n",
    "def forward_pass_with_label(batch):\n",
    "    # Place all input tensors on the same device as the model\n",
    "    inputs = {k:v.to(device) for k,v in batch.items()\n",
    "              if k in tokenizer.model_input_names}\n",
    "\n",
    "    with torch.no_grad():\n",
    "        output = model(**inputs)\n",
    "        pred_label = torch.argmax(output.logits, axis=-1)\n",
    "        loss = cross_entropy(output.logits, batch[\"label\"].to(device),\n",
    "                             reduction=\"none\")\n",
    "    # Place outputs on CPU for compatibility with other dataset columns\n",
    "    return {\"loss\": loss.cpu().numpy(),\n",
    "            \"predicted_label\": pred_label.cpu().numpy()}"
   ]
  },
  {
   "cell_type": "code",
   "execution_count": 6,
   "metadata": {},
   "outputs": [
    {
     "name": "stderr",
     "output_type": "stream",
     "text": [
      "Map: 100%|██████████| 300/300 [00:08<00:00, 36.50 examples/s]\n",
      "Map: 100%|██████████| 300/300 [00:05<00:00, 50.29 examples/s]\n"
     ]
    },
    {
     "data": {
      "text/plain": [
       "DatasetDict({\n",
       "    train: Dataset({\n",
       "        features: ['problem_id', 'problem', 'submission_id', 'submission', 'label', 'input_ids', 'attention_mask'],\n",
       "        num_rows: 1650\n",
       "    })\n",
       "    validation: Dataset({\n",
       "        features: ['problem_id', 'problem', 'submission_id', 'submission', 'label', 'input_ids', 'attention_mask', 'loss', 'predicted_label'],\n",
       "        num_rows: 300\n",
       "    })\n",
       "    test: Dataset({\n",
       "        features: ['problem_id', 'problem', 'submission_id', 'submission', 'label', 'input_ids', 'attention_mask', 'loss', 'predicted_label'],\n",
       "        num_rows: 300\n",
       "    })\n",
       "})"
      ]
     },
     "execution_count": 6,
     "metadata": {},
     "output_type": "execute_result"
    }
   ],
   "source": [
    "# Convert our dataset back to PyTorch tensors\n",
    "\n",
    "codebert_encoded.set_format(\"torch\", columns=[\"input_ids\", \"attention_mask\", \"label\"])\n",
    "codebert_encoded[\"test\"] = codebert_encoded[\"test\"].map(forward_pass_with_label, batched=True, batch_size=4)\n",
    "codebert_encoded[\"validation\"] = codebert_encoded[\"validation\"].map(forward_pass_with_label, batched=True, batch_size=4)\n",
    "codebert_encoded"
   ]
  },
  {
   "cell_type": "code",
   "execution_count": 7,
   "metadata": {},
   "outputs": [
    {
     "data": {
      "text/html": [
       "<div>\n",
       "<style scoped>\n",
       "    .dataframe tbody tr th:only-of-type {\n",
       "        vertical-align: middle;\n",
       "    }\n",
       "\n",
       "    .dataframe tbody tr th {\n",
       "        vertical-align: top;\n",
       "    }\n",
       "\n",
       "    .dataframe thead th {\n",
       "        text-align: right;\n",
       "    }\n",
       "</style>\n",
       "<table border=\"1\" class=\"dataframe\">\n",
       "  <thead>\n",
       "    <tr style=\"text-align: right;\">\n",
       "      <th></th>\n",
       "      <th>problem</th>\n",
       "      <th>submission</th>\n",
       "      <th>label</th>\n",
       "      <th>predicted_label</th>\n",
       "      <th>loss</th>\n",
       "    </tr>\n",
       "  </thead>\n",
       "  <tbody>\n",
       "    <tr>\n",
       "      <th>0</th>\n",
       "      <td>An integer N is a multiple of 9 if and only if...</td>\n",
       "      <td>target = input()\\nsum = 0\\nfor each in target:...</td>\n",
       "      <td>2</td>\n",
       "      <td>2</td>\n",
       "      <td>0.931539</td>\n",
       "    </tr>\n",
       "    <tr>\n",
       "      <th>1</th>\n",
       "      <td>Snuke is having a barbeque party.\\nAt the part...</td>\n",
       "      <td>import sys\\ninput=sys.stdin.readline\\n\\nN = in...</td>\n",
       "      <td>2</td>\n",
       "      <td>2</td>\n",
       "      <td>0.900610</td>\n",
       "    </tr>\n",
       "    <tr>\n",
       "      <th>2</th>\n",
       "      <td>Write a program which prints $n$-th fibonacci ...</td>\n",
       "      <td>n = int(input())\\nl = [0 for _ in range(10**4)...</td>\n",
       "      <td>2</td>\n",
       "      <td>2</td>\n",
       "      <td>0.877398</td>\n",
       "    </tr>\n",
       "    <tr>\n",
       "      <th>3</th>\n",
       "      <td>Takahashi is meeting up with Aoki.\\nThey have ...</td>\n",
       "      <td>D, T, S = map(int, input().split())\\n\\nif (D /...</td>\n",
       "      <td>2</td>\n",
       "      <td>2</td>\n",
       "      <td>0.926061</td>\n",
       "    </tr>\n",
       "    <tr>\n",
       "      <th>4</th>\n",
       "      <td>You can obtain profits from foreign exchange m...</td>\n",
       "      <td>s_max = -float('inf')\\ns = 0\\nfor i in range(i...</td>\n",
       "      <td>2</td>\n",
       "      <td>2</td>\n",
       "      <td>0.880470</td>\n",
       "    </tr>\n",
       "    <tr>\n",
       "      <th>...</th>\n",
       "      <td>...</td>\n",
       "      <td>...</td>\n",
       "      <td>...</td>\n",
       "      <td>...</td>\n",
       "      <td>...</td>\n",
       "    </tr>\n",
       "    <tr>\n",
       "      <th>295</th>\n",
       "      <td>There are N positive integers written on a bla...</td>\n",
       "      <td>n=int(input())\\na=[int(i)for i in input().spli...</td>\n",
       "      <td>0</td>\n",
       "      <td>2</td>\n",
       "      <td>1.439208</td>\n",
       "    </tr>\n",
       "    <tr>\n",
       "      <th>296</th>\n",
       "      <td>Given are two strings S and T.\\nLet us change ...</td>\n",
       "      <td>S = list(str(input()))\\nT = list(str(input()))...</td>\n",
       "      <td>0</td>\n",
       "      <td>2</td>\n",
       "      <td>1.442036</td>\n",
       "    </tr>\n",
       "    <tr>\n",
       "      <th>297</th>\n",
       "      <td>In some other world, today is Christmas.\\nMr. ...</td>\n",
       "      <td>N, X = map(int, input().split())\\ndim, ans = [...</td>\n",
       "      <td>0</td>\n",
       "      <td>2</td>\n",
       "      <td>1.440685</td>\n",
       "    </tr>\n",
       "    <tr>\n",
       "      <th>298</th>\n",
       "      <td>There are N integers written on a blackboard. ...</td>\n",
       "      <td>n = int(input())\\nA = list(map(int,input().spl...</td>\n",
       "      <td>0</td>\n",
       "      <td>2</td>\n",
       "      <td>1.450968</td>\n",
       "    </tr>\n",
       "    <tr>\n",
       "      <th>299</th>\n",
       "      <td>Your friend gave you a dequeue D as a birthday...</td>\n",
       "      <td>N,K=map(int,input().split())\\nv=list(map(int,i...</td>\n",
       "      <td>0</td>\n",
       "      <td>2</td>\n",
       "      <td>1.413585</td>\n",
       "    </tr>\n",
       "  </tbody>\n",
       "</table>\n",
       "<p>300 rows × 5 columns</p>\n",
       "</div>"
      ],
      "text/plain": [
       "                                               problem  \\\n",
       "0    An integer N is a multiple of 9 if and only if...   \n",
       "1    Snuke is having a barbeque party.\\nAt the part...   \n",
       "2    Write a program which prints $n$-th fibonacci ...   \n",
       "3    Takahashi is meeting up with Aoki.\\nThey have ...   \n",
       "4    You can obtain profits from foreign exchange m...   \n",
       "..                                                 ...   \n",
       "295  There are N positive integers written on a bla...   \n",
       "296  Given are two strings S and T.\\nLet us change ...   \n",
       "297  In some other world, today is Christmas.\\nMr. ...   \n",
       "298  There are N integers written on a blackboard. ...   \n",
       "299  Your friend gave you a dequeue D as a birthday...   \n",
       "\n",
       "                                            submission  label  \\\n",
       "0    target = input()\\nsum = 0\\nfor each in target:...      2   \n",
       "1    import sys\\ninput=sys.stdin.readline\\n\\nN = in...      2   \n",
       "2    n = int(input())\\nl = [0 for _ in range(10**4)...      2   \n",
       "3    D, T, S = map(int, input().split())\\n\\nif (D /...      2   \n",
       "4    s_max = -float('inf')\\ns = 0\\nfor i in range(i...      2   \n",
       "..                                                 ...    ...   \n",
       "295  n=int(input())\\na=[int(i)for i in input().spli...      0   \n",
       "296  S = list(str(input()))\\nT = list(str(input()))...      0   \n",
       "297  N, X = map(int, input().split())\\ndim, ans = [...      0   \n",
       "298  n = int(input())\\nA = list(map(int,input().spl...      0   \n",
       "299  N,K=map(int,input().split())\\nv=list(map(int,i...      0   \n",
       "\n",
       "     predicted_label      loss  \n",
       "0                  2  0.931539  \n",
       "1                  2  0.900610  \n",
       "2                  2  0.877398  \n",
       "3                  2  0.926061  \n",
       "4                  2  0.880470  \n",
       "..               ...       ...  \n",
       "295                2  1.439208  \n",
       "296                2  1.442036  \n",
       "297                2  1.440685  \n",
       "298                2  1.450968  \n",
       "299                2  1.413585  \n",
       "\n",
       "[300 rows x 5 columns]"
      ]
     },
     "execution_count": 7,
     "metadata": {},
     "output_type": "execute_result"
    }
   ],
   "source": [
    "codebert_encoded.set_format(\"pandas\")\n",
    "cols = [\"problem\", \"submission\", \"label\", \"predicted_label\", \"loss\"]\n",
    "df_test = codebert_encoded[\"test\"][:][cols]\n",
    "df_val = codebert_encoded[\"validation\"][:][cols]\n",
    "df_test"
   ]
  },
  {
   "cell_type": "code",
   "execution_count": 8,
   "metadata": {},
   "outputs": [],
   "source": [
    "from sklearn.metrics import accuracy_score, f1_score, precision_score, recall_score\n",
    "\n",
    "def evaluate(y_true, y_pred):\n",
    "    accuracy = accuracy_score(y_true, y_pred)\n",
    "    f1 = f1_score(y_true, y_pred, average='weighted')\n",
    "    precision = precision_score(y_true, y_pred, average='weighted')\n",
    "    recall = recall_score(y_true, y_pred, average='weighted')\n",
    "\n",
    "    return accuracy, f1, precision, recall"
   ]
  },
  {
   "cell_type": "code",
   "execution_count": 9,
   "metadata": {},
   "outputs": [],
   "source": [
    "from sklearn.metrics import ConfusionMatrixDisplay, confusion_matrix\n",
    "import matplotlib.pyplot as plt\n",
    "\n",
    "def plot_confusion_matrix(y_preds, y_true, labels):\n",
    "    cm = confusion_matrix(y_true, y_preds, normalize=\"true\")\n",
    "    fig, ax = plt.subplots(figsize=(6, 6))\n",
    "    disp = ConfusionMatrixDisplay(confusion_matrix=cm, display_labels=labels)\n",
    "    disp.plot(cmap=\"Blues\", values_format=\".2f\", ax=ax, colorbar=False)\n",
    "    plt.title(\"Normalized confusion matrix\")\n",
    "    plt.show()"
   ]
  },
  {
   "cell_type": "code",
   "execution_count": 10,
   "metadata": {},
   "outputs": [
    {
     "data": {
      "text/plain": [
       "((300,), (300,))"
      ]
     },
     "execution_count": 10,
     "metadata": {},
     "output_type": "execute_result"
    }
   ],
   "source": [
    "import numpy as np\n",
    "\n",
    "Y_test = np.array(df_test[\"label\"])\n",
    "Y_test_preds = np.array(df_test[\"predicted_label\"])\n",
    "\n",
    "Y_val = np.array(df_val[\"label\"])\n",
    "Y_val_preds = np.array(df_val[\"predicted_label\"])\n",
    "\n",
    "Y_test.shape, Y_test_preds.shape"
   ]
  },
  {
   "cell_type": "code",
   "execution_count": 11,
   "metadata": {},
   "outputs": [
    {
     "name": "stdout",
     "output_type": "stream",
     "text": [
      "Test scores:\n",
      "(0.3333333333333333, 0.16666666666666666, 0.11111111111111109, 0.3333333333333333)\n",
      "Validation scores:\n",
      "(0.3333333333333333, 0.16666666666666666, 0.11111111111111109, 0.3333333333333333)\n"
     ]
    },
    {
     "name": "stderr",
     "output_type": "stream",
     "text": [
      "/Users/dish/anaconda3/envs/codequal/lib/python3.10/site-packages/sklearn/metrics/_classification.py:1509: UndefinedMetricWarning: Precision is ill-defined and being set to 0.0 in labels with no predicted samples. Use `zero_division` parameter to control this behavior.\n",
      "  _warn_prf(average, modifier, f\"{metric.capitalize()} is\", len(result))\n",
      "/Users/dish/anaconda3/envs/codequal/lib/python3.10/site-packages/sklearn/metrics/_classification.py:1509: UndefinedMetricWarning: Precision is ill-defined and being set to 0.0 in labels with no predicted samples. Use `zero_division` parameter to control this behavior.\n",
      "  _warn_prf(average, modifier, f\"{metric.capitalize()} is\", len(result))\n"
     ]
    }
   ],
   "source": [
    "print(\"Test scores:\")\n",
    "print(evaluate(Y_test, Y_test_preds))\n",
    "print(\"Validation scores:\")\n",
    "print(evaluate(Y_val, Y_val_preds))"
   ]
  },
  {
   "cell_type": "code",
   "execution_count": 12,
   "metadata": {},
   "outputs": [
    {
     "name": "stdout",
     "output_type": "stream",
     "text": [
      "['low', 'average', 'high']\n"
     ]
    },
    {
     "data": {
      "image/png": "[encoded data removed]",
      "text/plain": [
       "<Figure size 600x600 with 1 Axes>"
      ]
     },
     "metadata": {},
     "output_type": "display_data"
    }
   ],
   "source": [
    "labels = code_qual_dataset['train'].features[\"label\"].names\n",
    "print(labels)\n",
    "plot_confusion_matrix(Y_test_preds, Y_test, labels)"
   ]
  },
  {
   "cell_type": "code",
   "execution_count": 13,
   "metadata": {},
   "outputs": [
    {
     "data": {
      "image/png": "[encoded data removed]",
      "text/plain": [
       "<Figure size 600x600 with 1 Axes>"
      ]
     },
     "metadata": {},
     "output_type": "display_data"
    }
   ],
   "source": [
    "plot_confusion_matrix(Y_val_preds, Y_val, labels)"
   ]
  }
 ],
 "metadata": {
  "kernelspec": {
   "display_name": "codequal",
   "language": "python",
   "name": "python3"
  },
  "language_info": {
   "codemirror_mode": {
    "name": "ipython",
    "version": 3
   },
   "file_extension": ".py",
   "mimetype": "text/x-python",
   "name": "python",
   "nbconvert_exporter": "python",
   "pygments_lexer": "ipython3",
   "version": "3.10.14"
  }
 },
 "nbformat": 4,
 "nbformat_minor": 2
}
