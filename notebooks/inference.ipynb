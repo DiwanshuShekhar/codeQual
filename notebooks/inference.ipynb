{
 "cells": [
  {
   "cell_type": "code",
   "execution_count": 2,
   "metadata": {},
   "outputs": [
    {
     "name": "stdout",
     "output_type": "stream",
     "text": [
      "['/Users/dish/Code/codeQual', '/Users/dish/Code/codeQual', '/Users/dish/Code/codeQual/notebooks', '/Users/dish/anaconda3/envs/codequal/lib/python310.zip', '/Users/dish/anaconda3/envs/codequal/lib/python3.10', '/Users/dish/anaconda3/envs/codequal/lib/python3.10/lib-dynload', '', '/Users/dish/anaconda3/envs/codequal/lib/python3.10/site-packages']\n"
     ]
    }
   ],
   "source": [
    "# set root dir in system path\n",
    "import sys\n",
    "sys.path.insert(0, '/Users/dish/Code/codeQual')\n",
    "print(sys.path)\n",
    "from codeQual import set_device\n",
    "device = set_device.set()"
   ]
  },
  {
   "cell_type": "code",
   "execution_count": 3,
   "metadata": {},
   "outputs": [
    {
     "name": "stderr",
     "output_type": "stream",
     "text": [
      "/Users/dish/anaconda3/envs/codequal/lib/python3.10/site-packages/tqdm/auto.py:21: TqdmWarning: IProgress not found. Please update jupyter and ipywidgets. See https://ipywidgets.readthedocs.io/en/stable/user_install.html\n",
      "  from .autonotebook import tqdm as notebook_tqdm\n"
     ]
    },
    {
     "data": {
      "text/plain": [
       "0"
      ]
     },
     "execution_count": 3,
     "metadata": {},
     "output_type": "execute_result"
    }
   ],
   "source": [
    "from transformers import AutoModelForSequenceClassification, AutoTokenizer\n",
    "model_name = '/Users/dish/Code/codeQual/training_output/checkpoint-232'\n",
    "num_classes = 3\n",
    "model = AutoModelForSequenceClassification.from_pretrained(model_name, num_labels=num_classes, max_length=512).to(device)\n",
    "tokenizer = AutoTokenizer.from_pretrained(model_name)\n",
    "tokenizer.add_special_tokens({\"pad_token\": \"[PAD]\"})"
   ]
  },
  {
   "cell_type": "code",
   "execution_count": 13,
   "metadata": {},
   "outputs": [
    {
     "name": "stdout",
     "output_type": "stream",
     "text": [
      "logits: tensor([[ 0.1821,  1.4561, -1.1302]], device='mps:0')\n",
      "predicted_class: 1\n"
     ]
    }
   ],
   "source": [
    "import torch\n",
    "\n",
    "code = \"\"\"from collections import deque\n",
    "\n",
    "def main():\n",
    "    S = input()\n",
    "    P = input()\n",
    "\n",
    "    s = deque(S)\n",
    "    n = len(S)\n",
    "    for _ in range(n):\n",
    "        s.append(s.popleft())\n",
    "        if P in ''.join(s):\n",
    "            ans = 'Yes'\n",
    "            break\n",
    "    else:\n",
    "        ans = 'No'\n",
    "\n",
    "    print(ans)\n",
    "\n",
    "main()\n",
    "\"\"\"\n",
    "input_encoded = tokenizer(code, padding=True, truncation=True, return_tensors=\"pt\")\n",
    "input_encoded = {k:v.to(device) for k,v in input_encoded.items() if k in tokenizer.model_input_names}\n",
    "with torch.no_grad():\n",
    "    logits = model(**input_encoded).logits\n",
    "print(f\"logits: {logits}\")\n",
    "print(f\"predicted_class: {logits.argmax().item()}\")"
   ]
  }
 ],
 "metadata": {
  "kernelspec": {
   "display_name": "codequal",
   "language": "python",
   "name": "python3"
  },
  "language_info": {
   "codemirror_mode": {
    "name": "ipython",
    "version": 3
   },
   "file_extension": ".py",
   "mimetype": "text/x-python",
   "name": "python",
   "nbconvert_exporter": "python",
   "pygments_lexer": "ipython3",
   "version": "3.10.13"
  }
 },
 "nbformat": 4,
 "nbformat_minor": 2
}
