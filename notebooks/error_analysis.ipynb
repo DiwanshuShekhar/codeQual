{
 "cells": [
  {
   "cell_type": "code",
   "execution_count": 1,
   "metadata": {},
   "outputs": [
    {
     "name": "stdout",
     "output_type": "stream",
     "text": [
      "['/Users/dish/Code/codeQual', '/Users/dish/Code/codeQual/notebooks', '/Users/dish/anaconda3/envs/codequal/lib/python310.zip', '/Users/dish/anaconda3/envs/codequal/lib/python3.10', '/Users/dish/anaconda3/envs/codequal/lib/python3.10/lib-dynload', '', '/Users/dish/anaconda3/envs/codequal/lib/python3.10/site-packages']\n"
     ]
    }
   ],
   "source": [
    "# set root dir in system path\n",
    "import sys\n",
    "sys.path.insert(0, '/Users/dish/Code/codeQual')\n",
    "print(sys.path)\n",
    "from codeQual import set_device\n",
    "device = set_device.set()"
   ]
  },
  {
   "cell_type": "code",
   "execution_count": 2,
   "metadata": {},
   "outputs": [
    {
     "name": "stderr",
     "output_type": "stream",
     "text": [
      "/Users/dish/anaconda3/envs/codequal/lib/python3.10/site-packages/tqdm/auto.py:21: TqdmWarning: IProgress not found. Please update jupyter and ipywidgets. See https://ipywidgets.readthedocs.io/en/stable/user_install.html\n",
      "  from .autonotebook import tqdm as notebook_tqdm\n"
     ]
    },
    {
     "data": {
      "text/plain": [
       "0"
      ]
     },
     "execution_count": 2,
     "metadata": {},
     "output_type": "execute_result"
    }
   ],
   "source": [
    "from transformers import AutoModelForSequenceClassification, AutoTokenizer\n",
    "model_name = '/Users/dish/Code/codeQual/training_output/checkpoint-232'\n",
    "num_classes = 3\n",
    "model = AutoModelForSequenceClassification.from_pretrained(model_name, num_labels=num_classes, max_length=512).to(device)\n",
    "tokenizer = AutoTokenizer.from_pretrained(model_name)\n",
    "tokenizer.add_special_tokens({\"pad_token\": \"[PAD]\"})"
   ]
  },
  {
   "cell_type": "code",
   "execution_count": 3,
   "metadata": {},
   "outputs": [
    {
     "name": "stderr",
     "output_type": "stream",
     "text": [
      "Map: 100%|██████████| 461/461 [00:00<00:00, 6038.93 examples/s]\n",
      "Map: 100%|██████████| 116/116 [00:00<00:00, 6259.75 examples/s]\n",
      "Map: 100%|██████████| 145/145 [00:00<00:00, 7338.89 examples/s]\n"
     ]
    },
    {
     "data": {
      "text/plain": [
       "DatasetDict({\n",
       "    train: Dataset({\n",
       "        features: ['problem_id', 'problem', 'submission_id', 'submission', 'label', 'input_ids', 'attention_mask'],\n",
       "        num_rows: 461\n",
       "    })\n",
       "    validation: Dataset({\n",
       "        features: ['problem_id', 'problem', 'submission_id', 'submission', 'label', 'input_ids', 'attention_mask'],\n",
       "        num_rows: 116\n",
       "    })\n",
       "    test: Dataset({\n",
       "        features: ['problem_id', 'problem', 'submission_id', 'submission', 'label', 'input_ids', 'attention_mask'],\n",
       "        num_rows: 145\n",
       "    })\n",
       "})"
      ]
     },
     "execution_count": 3,
     "metadata": {},
     "output_type": "execute_result"
    }
   ],
   "source": [
    "from transformers import AutoTokenizer\n",
    "from datasets import Dataset, DatasetDict, load_dataset\n",
    "code_qual_dataset = DatasetDict.load_from_disk('../data/CodeQualData/code_qual_dataset')\n",
    "\n",
    "def tokenize(batch):\n",
    "    return tokenizer(batch[\"submission\"], padding=True, truncation=True)\n",
    "\n",
    "\n",
    "codequal_encoded: DatasetDict = code_qual_dataset.map(tokenize, batched=True, batch_size=None)\n",
    "codequal_encoded"
   ]
  },
  {
   "cell_type": "code",
   "execution_count": 4,
   "metadata": {},
   "outputs": [],
   "source": [
    "from torch.nn.functional import cross_entropy\n",
    "import torch\n",
    "\n",
    "def forward_pass_with_label(batch):\n",
    "    # Place all input tensors on the same device as the model\n",
    "    inputs = {k:v.to(device) for k,v in batch.items()\n",
    "              if k in tokenizer.model_input_names}\n",
    "\n",
    "    with torch.no_grad():\n",
    "        output = model(**inputs)\n",
    "        pred_label = torch.argmax(output.logits, axis=-1)\n",
    "        loss = cross_entropy(output.logits, batch[\"label\"].to(device),\n",
    "                             reduction=\"none\")\n",
    "    # Place outputs on CPU for compatibility with other dataset columns\n",
    "    return {\"loss\": loss.cpu().numpy(),\n",
    "            \"predicted_label\": pred_label.cpu().numpy()}"
   ]
  },
  {
   "cell_type": "code",
   "execution_count": 5,
   "metadata": {},
   "outputs": [
    {
     "name": "stderr",
     "output_type": "stream",
     "text": [
      "Map: 100%|██████████| 116/116 [00:02<00:00, 46.15 examples/s]\n"
     ]
    },
    {
     "data": {
      "text/plain": [
       "DatasetDict({\n",
       "    train: Dataset({\n",
       "        features: ['problem_id', 'problem', 'submission_id', 'submission', 'label', 'input_ids', 'attention_mask'],\n",
       "        num_rows: 461\n",
       "    })\n",
       "    validation: Dataset({\n",
       "        features: ['problem_id', 'problem', 'submission_id', 'submission', 'label', 'input_ids', 'attention_mask', 'loss', 'predicted_label'],\n",
       "        num_rows: 116\n",
       "    })\n",
       "    test: Dataset({\n",
       "        features: ['problem_id', 'problem', 'submission_id', 'submission', 'label', 'input_ids', 'attention_mask'],\n",
       "        num_rows: 145\n",
       "    })\n",
       "})"
      ]
     },
     "execution_count": 5,
     "metadata": {},
     "output_type": "execute_result"
    }
   ],
   "source": [
    "# Convert our dataset back to PyTorch tensors\n",
    "\n",
    "codequal_encoded.set_format(\"torch\", columns=[\"input_ids\", \"attention_mask\", \"label\"])\n",
    "# Compute loss values\n",
    "codequal_encoded[\"validation\"] = codequal_encoded[\"validation\"].map(forward_pass_with_label, batched=True, batch_size=16)\n",
    "codequal_encoded"
   ]
  },
  {
   "cell_type": "code",
   "execution_count": 14,
   "metadata": {},
   "outputs": [
    {
     "data": {
      "text/html": [
       "<div>\n",
       "<style scoped>\n",
       "    .dataframe tbody tr th:only-of-type {\n",
       "        vertical-align: middle;\n",
       "    }\n",
       "\n",
       "    .dataframe tbody tr th {\n",
       "        vertical-align: top;\n",
       "    }\n",
       "\n",
       "    .dataframe thead th {\n",
       "        text-align: right;\n",
       "    }\n",
       "</style>\n",
       "<table border=\"1\" class=\"dataframe\">\n",
       "  <thead>\n",
       "    <tr style=\"text-align: right;\">\n",
       "      <th></th>\n",
       "      <th>problem</th>\n",
       "      <th>submission</th>\n",
       "      <th>label</th>\n",
       "      <th>predicted_label</th>\n",
       "      <th>loss</th>\n",
       "    </tr>\n",
       "  </thead>\n",
       "  <tbody>\n",
       "    <tr>\n",
       "      <th>0</th>\n",
       "      <td>The code takes a string as input and appends '...</td>\n",
       "      <td># -*- coding: utf-8 -*-\\n\\ndef answer(s):\\n   ...</td>\n",
       "      <td>2</td>\n",
       "      <td>1</td>\n",
       "      <td>1.146564</td>\n",
       "    </tr>\n",
       "    <tr>\n",
       "      <th>1</th>\n",
       "      <td>Snuke has a calculator. It has a display and t...</td>\n",
       "      <td>x, y = map(int, input().split())\\ndif = abs(ab...</td>\n",
       "      <td>1</td>\n",
       "      <td>1</td>\n",
       "      <td>0.212066</td>\n",
       "    </tr>\n",
       "    <tr>\n",
       "      <th>2</th>\n",
       "      <td>The code computes the minimum number of times ...</td>\n",
       "      <td>n = int(input())\\na = list(map(int, input().sp...</td>\n",
       "      <td>0</td>\n",
       "      <td>0</td>\n",
       "      <td>0.237920</td>\n",
       "    </tr>\n",
       "    <tr>\n",
       "      <th>3</th>\n",
       "      <td>This code takes a word as input and then check...</td>\n",
       "      <td>word = input()\\nif word.endswith('s'):\\n  prin...</td>\n",
       "      <td>1</td>\n",
       "      <td>1</td>\n",
       "      <td>0.584925</td>\n",
       "    </tr>\n",
       "    <tr>\n",
       "      <th>4</th>\n",
       "      <td>The code reads an integer (n) and then reads n...</td>\n",
       "      <td>n=int(input())\\ns=list(map(int,input().split()...</td>\n",
       "      <td>1</td>\n",
       "      <td>0</td>\n",
       "      <td>1.759817</td>\n",
       "    </tr>\n",
       "    <tr>\n",
       "      <th>...</th>\n",
       "      <td>...</td>\n",
       "      <td>...</td>\n",
       "      <td>...</td>\n",
       "      <td>...</td>\n",
       "      <td>...</td>\n",
       "    </tr>\n",
       "    <tr>\n",
       "      <th>111</th>\n",
       "      <td>You are taking a computer-based examination. T...</td>\n",
       "      <td>N = int(input())\\nS = [int(input()) for _ in r...</td>\n",
       "      <td>1</td>\n",
       "      <td>1</td>\n",
       "      <td>0.211377</td>\n",
       "    </tr>\n",
       "    <tr>\n",
       "      <th>112</th>\n",
       "      <td>The code takes an integer input denoting the n...</td>\n",
       "      <td>n=int(input())\\na=list(map(int,input().split()...</td>\n",
       "      <td>1</td>\n",
       "      <td>1</td>\n",
       "      <td>0.699269</td>\n",
       "    </tr>\n",
       "    <tr>\n",
       "      <th>113</th>\n",
       "      <td>Code reads a word, checks if it ends with 's',...</td>\n",
       "      <td>word = input()\\nif (word.endswith('s')):\\n    ...</td>\n",
       "      <td>1</td>\n",
       "      <td>1</td>\n",
       "      <td>0.579420</td>\n",
       "    </tr>\n",
       "    <tr>\n",
       "      <th>114</th>\n",
       "      <td>You will be given a string S of length 3 repre...</td>\n",
       "      <td>line = input()\\nline2 = input()\\ncount = 0\\nif...</td>\n",
       "      <td>1</td>\n",
       "      <td>1</td>\n",
       "      <td>0.401516</td>\n",
       "    </tr>\n",
       "    <tr>\n",
       "      <th>115</th>\n",
       "      <td>You are given two integers A and B as the inpu...</td>\n",
       "      <td>import sys\\nimport itertools\\nsys.setrecursion...</td>\n",
       "      <td>2</td>\n",
       "      <td>1</td>\n",
       "      <td>2.163872</td>\n",
       "    </tr>\n",
       "  </tbody>\n",
       "</table>\n",
       "<p>116 rows × 5 columns</p>\n",
       "</div>"
      ],
      "text/plain": [
       "                                               problem  \\\n",
       "0    The code takes a string as input and appends '...   \n",
       "1    Snuke has a calculator. It has a display and t...   \n",
       "2    The code computes the minimum number of times ...   \n",
       "3    This code takes a word as input and then check...   \n",
       "4    The code reads an integer (n) and then reads n...   \n",
       "..                                                 ...   \n",
       "111  You are taking a computer-based examination. T...   \n",
       "112  The code takes an integer input denoting the n...   \n",
       "113  Code reads a word, checks if it ends with 's',...   \n",
       "114  You will be given a string S of length 3 repre...   \n",
       "115  You are given two integers A and B as the inpu...   \n",
       "\n",
       "                                            submission  label  \\\n",
       "0    # -*- coding: utf-8 -*-\\n\\ndef answer(s):\\n   ...      2   \n",
       "1    x, y = map(int, input().split())\\ndif = abs(ab...      1   \n",
       "2    n = int(input())\\na = list(map(int, input().sp...      0   \n",
       "3    word = input()\\nif word.endswith('s'):\\n  prin...      1   \n",
       "4    n=int(input())\\ns=list(map(int,input().split()...      1   \n",
       "..                                                 ...    ...   \n",
       "111  N = int(input())\\nS = [int(input()) for _ in r...      1   \n",
       "112  n=int(input())\\na=list(map(int,input().split()...      1   \n",
       "113  word = input()\\nif (word.endswith('s')):\\n    ...      1   \n",
       "114  line = input()\\nline2 = input()\\ncount = 0\\nif...      1   \n",
       "115  import sys\\nimport itertools\\nsys.setrecursion...      2   \n",
       "\n",
       "     predicted_label      loss  \n",
       "0                  1  1.146564  \n",
       "1                  1  0.212066  \n",
       "2                  0  0.237920  \n",
       "3                  1  0.584925  \n",
       "4                  0  1.759817  \n",
       "..               ...       ...  \n",
       "111                1  0.211377  \n",
       "112                1  0.699269  \n",
       "113                1  0.579420  \n",
       "114                1  0.401516  \n",
       "115                1  2.163872  \n",
       "\n",
       "[116 rows x 5 columns]"
      ]
     },
     "execution_count": 14,
     "metadata": {},
     "output_type": "execute_result"
    }
   ],
   "source": [
    "codequal_encoded.set_format(\"pandas\")\n",
    "cols = [\"problem\", \"submission\", \"label\", \"predicted_label\", \"loss\"]\n",
    "df_valid = codequal_encoded[\"validation\"][:][cols]\n",
    "df_valid"
   ]
  },
  {
   "cell_type": "code",
   "execution_count": 15,
   "metadata": {},
   "outputs": [
    {
     "data": {
      "text/html": [
       "<div>\n",
       "<style scoped>\n",
       "    .dataframe tbody tr th:only-of-type {\n",
       "        vertical-align: middle;\n",
       "    }\n",
       "\n",
       "    .dataframe tbody tr th {\n",
       "        vertical-align: top;\n",
       "    }\n",
       "\n",
       "    .dataframe thead th {\n",
       "        text-align: right;\n",
       "    }\n",
       "</style>\n",
       "<table border=\"1\" class=\"dataframe\">\n",
       "  <thead>\n",
       "    <tr style=\"text-align: right;\">\n",
       "      <th></th>\n",
       "      <th>problem</th>\n",
       "      <th>submission</th>\n",
       "      <th>label</th>\n",
       "      <th>predicted_label</th>\n",
       "      <th>loss</th>\n",
       "    </tr>\n",
       "  </thead>\n",
       "  <tbody>\n",
       "    <tr>\n",
       "      <th>83</th>\n",
       "      <td>There are N integers written on a blackboard. ...</td>\n",
       "      <td>def main():\\n    import sys\\n    input = sys.s...</td>\n",
       "      <td>2</td>\n",
       "      <td>1</td>\n",
       "      <td>3.627894</td>\n",
       "    </tr>\n",
       "    <tr>\n",
       "      <th>93</th>\n",
       "      <td>You are given two integers A and B.\\nPrint a g...</td>\n",
       "      <td>a, b = map(int, input().split())\\n\\na -= 1\\nb ...</td>\n",
       "      <td>2</td>\n",
       "      <td>1</td>\n",
       "      <td>2.916127</td>\n",
       "    </tr>\n",
       "    <tr>\n",
       "      <th>15</th>\n",
       "      <td>Takahashi will do a tap dance. The dance is de...</td>\n",
       "      <td>import sys\\n\\nread = sys.stdin.read\\nreadline ...</td>\n",
       "      <td>2</td>\n",
       "      <td>1</td>\n",
       "      <td>2.797327</td>\n",
       "    </tr>\n",
       "    <tr>\n",
       "      <th>115</th>\n",
       "      <td>You are given two integers A and B as the inpu...</td>\n",
       "      <td>import sys\\nimport itertools\\nsys.setrecursion...</td>\n",
       "      <td>2</td>\n",
       "      <td>1</td>\n",
       "      <td>2.163872</td>\n",
       "    </tr>\n",
       "    <tr>\n",
       "      <th>95</th>\n",
       "      <td>Dolphin resides in two-dimensional Cartesian p...</td>\n",
       "      <td>import sys\\ninput = sys.stdin.readline\\nsys.se...</td>\n",
       "      <td>2</td>\n",
       "      <td>1</td>\n",
       "      <td>2.055897</td>\n",
       "    </tr>\n",
       "    <tr>\n",
       "      <th>47</th>\n",
       "      <td>The code takes an integer input 'N' representi...</td>\n",
       "      <td>N =int(input())\\nList = list(map(int, input()....</td>\n",
       "      <td>1</td>\n",
       "      <td>0</td>\n",
       "      <td>1.998440</td>\n",
       "    </tr>\n",
       "    <tr>\n",
       "      <th>97</th>\n",
       "      <td>We have N dice arranged in a line from left to...</td>\n",
       "      <td>import sys\\n\\n\\n# \\n\\ndef input():\\n    return...</td>\n",
       "      <td>0</td>\n",
       "      <td>1</td>\n",
       "      <td>1.963489</td>\n",
       "    </tr>\n",
       "    <tr>\n",
       "      <th>61</th>\n",
       "      <td>This code reads an integer 'n' from input repr...</td>\n",
       "      <td>from sys import stdin\\nn = stdin.readline().rs...</td>\n",
       "      <td>1</td>\n",
       "      <td>0</td>\n",
       "      <td>1.963151</td>\n",
       "    </tr>\n",
       "    <tr>\n",
       "      <th>46</th>\n",
       "      <td>The code takes an integer 'n' as input followe...</td>\n",
       "      <td>n = int(input())\\na = list(map(int, input().sp...</td>\n",
       "      <td>1</td>\n",
       "      <td>0</td>\n",
       "      <td>1.857147</td>\n",
       "    </tr>\n",
       "    <tr>\n",
       "      <th>98</th>\n",
       "      <td>Given a list of integers, this code repeatedly...</td>\n",
       "      <td>n = int(input())\\na = list(map(int, input().sp...</td>\n",
       "      <td>1</td>\n",
       "      <td>0</td>\n",
       "      <td>1.842110</td>\n",
       "    </tr>\n",
       "  </tbody>\n",
       "</table>\n",
       "</div>"
      ],
      "text/plain": [
       "                                               problem  \\\n",
       "83   There are N integers written on a blackboard. ...   \n",
       "93   You are given two integers A and B.\\nPrint a g...   \n",
       "15   Takahashi will do a tap dance. The dance is de...   \n",
       "115  You are given two integers A and B as the inpu...   \n",
       "95   Dolphin resides in two-dimensional Cartesian p...   \n",
       "47   The code takes an integer input 'N' representi...   \n",
       "97   We have N dice arranged in a line from left to...   \n",
       "61   This code reads an integer 'n' from input repr...   \n",
       "46   The code takes an integer 'n' as input followe...   \n",
       "98   Given a list of integers, this code repeatedly...   \n",
       "\n",
       "                                            submission  label  \\\n",
       "83   def main():\\n    import sys\\n    input = sys.s...      2   \n",
       "93   a, b = map(int, input().split())\\n\\na -= 1\\nb ...      2   \n",
       "15   import sys\\n\\nread = sys.stdin.read\\nreadline ...      2   \n",
       "115  import sys\\nimport itertools\\nsys.setrecursion...      2   \n",
       "95   import sys\\ninput = sys.stdin.readline\\nsys.se...      2   \n",
       "47   N =int(input())\\nList = list(map(int, input()....      1   \n",
       "97   import sys\\n\\n\\n# \\n\\ndef input():\\n    return...      0   \n",
       "61   from sys import stdin\\nn = stdin.readline().rs...      1   \n",
       "46   n = int(input())\\na = list(map(int, input().sp...      1   \n",
       "98   n = int(input())\\na = list(map(int, input().sp...      1   \n",
       "\n",
       "     predicted_label      loss  \n",
       "83                 1  3.627894  \n",
       "93                 1  2.916127  \n",
       "15                 1  2.797327  \n",
       "115                1  2.163872  \n",
       "95                 1  2.055897  \n",
       "47                 0  1.998440  \n",
       "97                 1  1.963489  \n",
       "61                 0  1.963151  \n",
       "46                 0  1.857147  \n",
       "98                 0  1.842110  "
      ]
     },
     "execution_count": 15,
     "metadata": {},
     "output_type": "execute_result"
    }
   ],
   "source": [
    "df_valid.sort_values(\"loss\", ascending=False).head(10)"
   ]
  },
  {
   "cell_type": "code",
   "execution_count": 8,
   "metadata": {},
   "outputs": [
    {
     "data": {
      "text/html": [
       "<div>\n",
       "<style scoped>\n",
       "    .dataframe tbody tr th:only-of-type {\n",
       "        vertical-align: middle;\n",
       "    }\n",
       "\n",
       "    .dataframe tbody tr th {\n",
       "        vertical-align: top;\n",
       "    }\n",
       "\n",
       "    .dataframe thead th {\n",
       "        text-align: right;\n",
       "    }\n",
       "</style>\n",
       "<table border=\"1\" class=\"dataframe\">\n",
       "  <thead>\n",
       "    <tr style=\"text-align: right;\">\n",
       "      <th></th>\n",
       "      <th>submission</th>\n",
       "      <th>label</th>\n",
       "      <th>predicted_label</th>\n",
       "      <th>loss</th>\n",
       "    </tr>\n",
       "  </thead>\n",
       "  <tbody>\n",
       "    <tr>\n",
       "      <th>19</th>\n",
       "      <td># 28\\nN = int(input())\\nAn = list(map(int, inp...</td>\n",
       "      <td>0</td>\n",
       "      <td>0</td>\n",
       "      <td>0.140794</td>\n",
       "    </tr>\n",
       "    <tr>\n",
       "      <th>76</th>\n",
       "      <td>import sys\\nn = int(input())\\na = list(map(int...</td>\n",
       "      <td>0</td>\n",
       "      <td>0</td>\n",
       "      <td>0.144307</td>\n",
       "    </tr>\n",
       "    <tr>\n",
       "      <th>42</th>\n",
       "      <td>digit = int(input())\\nli = list(input().split(...</td>\n",
       "      <td>0</td>\n",
       "      <td>0</td>\n",
       "      <td>0.151260</td>\n",
       "    </tr>\n",
       "    <tr>\n",
       "      <th>94</th>\n",
       "      <td>N = int(input())\\nA = list(map(int, input().sp...</td>\n",
       "      <td>0</td>\n",
       "      <td>0</td>\n",
       "      <td>0.152772</td>\n",
       "    </tr>\n",
       "    <tr>\n",
       "      <th>68</th>\n",
       "      <td>n = int(input())\\nnum = [int(x) for x in input...</td>\n",
       "      <td>0</td>\n",
       "      <td>0</td>\n",
       "      <td>0.153069</td>\n",
       "    </tr>\n",
       "    <tr>\n",
       "      <th>99</th>\n",
       "      <td>n = int(input())\\na = list(map(int, input().sp...</td>\n",
       "      <td>0</td>\n",
       "      <td>0</td>\n",
       "      <td>0.154628</td>\n",
       "    </tr>\n",
       "    <tr>\n",
       "      <th>53</th>\n",
       "      <td>\\nn = int(input())\\nx = list(map(int,input().s...</td>\n",
       "      <td>0</td>\n",
       "      <td>0</td>\n",
       "      <td>0.156221</td>\n",
       "    </tr>\n",
       "    <tr>\n",
       "      <th>24</th>\n",
       "      <td>import sys\\n\\nread=sys.stdin.read\\nn, *a=map(i...</td>\n",
       "      <td>0</td>\n",
       "      <td>0</td>\n",
       "      <td>0.158462</td>\n",
       "    </tr>\n",
       "    <tr>\n",
       "      <th>39</th>\n",
       "      <td>N = int(input())\\nls = list(map(int,input().sp...</td>\n",
       "      <td>0</td>\n",
       "      <td>0</td>\n",
       "      <td>0.158665</td>\n",
       "    </tr>\n",
       "    <tr>\n",
       "      <th>9</th>\n",
       "      <td>n=int(input())\\nn_list=list(map(int,input().sp...</td>\n",
       "      <td>0</td>\n",
       "      <td>0</td>\n",
       "      <td>0.164693</td>\n",
       "    </tr>\n",
       "  </tbody>\n",
       "</table>\n",
       "</div>"
      ],
      "text/plain": [
       "                                           submission  label  predicted_label  \\\n",
       "19  # 28\\nN = int(input())\\nAn = list(map(int, inp...      0                0   \n",
       "76  import sys\\nn = int(input())\\na = list(map(int...      0                0   \n",
       "42  digit = int(input())\\nli = list(input().split(...      0                0   \n",
       "94  N = int(input())\\nA = list(map(int, input().sp...      0                0   \n",
       "68  n = int(input())\\nnum = [int(x) for x in input...      0                0   \n",
       "99  n = int(input())\\na = list(map(int, input().sp...      0                0   \n",
       "53  \\nn = int(input())\\nx = list(map(int,input().s...      0                0   \n",
       "24  import sys\\n\\nread=sys.stdin.read\\nn, *a=map(i...      0                0   \n",
       "39  N = int(input())\\nls = list(map(int,input().sp...      0                0   \n",
       "9   n=int(input())\\nn_list=list(map(int,input().sp...      0                0   \n",
       "\n",
       "        loss  \n",
       "19  0.140794  \n",
       "76  0.144307  \n",
       "42  0.151260  \n",
       "94  0.152772  \n",
       "68  0.153069  \n",
       "99  0.154628  \n",
       "53  0.156221  \n",
       "24  0.158462  \n",
       "39  0.158665  \n",
       "9   0.164693  "
      ]
     },
     "execution_count": 8,
     "metadata": {},
     "output_type": "execute_result"
    }
   ],
   "source": [
    "df_valid.sort_values(\"loss\", ascending=True).head(10)"
   ]
  },
  {
   "cell_type": "code",
   "execution_count": 9,
   "metadata": {},
   "outputs": [
    {
     "name": "stderr",
     "output_type": "stream",
     "text": [
      "huggingface/tokenizers: The current process just got forked, after parallelism has already been used. Disabling parallelism to avoid deadlocks...\n",
      "To disable this warning, you can either:\n",
      "\t- Avoid using `tokenizers` before the fork if possible\n",
      "\t- Explicitly set the environment variable TOKENIZERS_PARALLELISM=(true | false)\n"
     ]
    }
   ],
   "source": [
    "from sklearn.metrics import accuracy_score, f1_score, precision_score, recall_score\n",
    "\n",
    "def evaluate(y_true, y_pred):\n",
    "    accuracy = accuracy_score(y_true, y_pred)\n",
    "    f1 = f1_score(y_true, y_pred, average='weighted')\n",
    "    precision = precision_score(y_true, y_pred, average='weighted')\n",
    "    recall = recall_score(y_true, y_pred, average='weighted')\n",
    "\n",
    "    return accuracy, f1, precision, recall"
   ]
  },
  {
   "cell_type": "code",
   "execution_count": 10,
   "metadata": {},
   "outputs": [],
   "source": [
    "from sklearn.metrics import ConfusionMatrixDisplay, confusion_matrix\n",
    "import matplotlib.pyplot as plt\n",
    "\n",
    "def plot_confusion_matrix(y_preds, y_true, labels):\n",
    "    cm = confusion_matrix(y_true, y_preds, normalize=\"true\")\n",
    "    fig, ax = plt.subplots(figsize=(6, 6))\n",
    "    disp = ConfusionMatrixDisplay(confusion_matrix=cm, display_labels=labels)\n",
    "    disp.plot(cmap=\"Blues\", values_format=\".2f\", ax=ax, colorbar=False)\n",
    "    plt.title(\"Normalized confusion matrix\")\n",
    "    plt.show()"
   ]
  },
  {
   "cell_type": "code",
   "execution_count": 11,
   "metadata": {},
   "outputs": [
    {
     "data": {
      "text/plain": [
       "((116,), (116,))"
      ]
     },
     "execution_count": 11,
     "metadata": {},
     "output_type": "execute_result"
    }
   ],
   "source": [
    "import numpy as np\n",
    "\n",
    "Y_valid = np.array(df_valid[\"label\"])\n",
    "Y_valid_preds = np.array(df_valid[\"predicted_label\"])\n",
    "Y_valid.shape, Y_valid_preds.shape"
   ]
  },
  {
   "cell_type": "code",
   "execution_count": 12,
   "metadata": {},
   "outputs": [
    {
     "name": "stdout",
     "output_type": "stream",
     "text": [
      "(0.6551724137931034, 0.6088246199480905, 0.5705404509283819, 0.6551724137931034)\n"
     ]
    },
    {
     "name": "stderr",
     "output_type": "stream",
     "text": [
      "/Users/dish/anaconda3/envs/codequal/lib/python3.10/site-packages/sklearn/metrics/_classification.py:1509: UndefinedMetricWarning: Precision is ill-defined and being set to 0.0 in labels with no predicted samples. Use `zero_division` parameter to control this behavior.\n",
      "  _warn_prf(average, modifier, f\"{metric.capitalize()} is\", len(result))\n"
     ]
    }
   ],
   "source": [
    "print(evaluate(Y_valid, Y_valid_preds))"
   ]
  },
  {
   "cell_type": "code",
   "execution_count": 13,
   "metadata": {},
   "outputs": [
    {
     "name": "stdout",
     "output_type": "stream",
     "text": [
      "['low', 'average', 'high']\n"
     ]
    },
    {
     "data": {
      "image/png": "[encoded data removed]",
      "text/plain": [
       "<Figure size 600x600 with 1 Axes>"
      ]
     },
     "metadata": {},
     "output_type": "display_data"
    }
   ],
   "source": [
    "labels = code_qual_dataset['train'].features[\"label\"].names\n",
    "print(labels)\n",
    "plot_confusion_matrix(Y_valid_preds, Y_valid, labels)"
   ]
  }
 ],
 "metadata": {
  "kernelspec": {
   "display_name": "codequal",
   "language": "python",
   "name": "python3"
  },
  "language_info": {
   "codemirror_mode": {
    "name": "ipython",
    "version": 3
   },
   "file_extension": ".py",
   "mimetype": "text/x-python",
   "name": "python",
   "nbconvert_exporter": "python",
   "pygments_lexer": "ipython3",
   "version": "3.10.13"
  }
 },
 "nbformat": 4,
 "nbformat_minor": 2
}
