{
 "cells": [
  {
   "cell_type": "code",
   "execution_count": 56,
   "metadata": {},
   "outputs": [
    {
     "name": "stdout",
     "output_type": "stream",
     "text": [
      "['/Users/dish/Code/codeQual', '/Users/dish/Code/codeQual', '/Users/dish/Code/codeQual', '/Users/dish/Code/codeQual', '/Users/dish/Code/codeQual', '/Users/dish/Code/codeQual/notebooks', '/Users/dish/anaconda3/envs/codequal/lib/python310.zip', '/Users/dish/anaconda3/envs/codequal/lib/python3.10', '/Users/dish/anaconda3/envs/codequal/lib/python3.10/lib-dynload', '', '/Users/dish/anaconda3/envs/codequal/lib/python3.10/site-packages', '/var/folders/52/649zlcmd67lcyfjp21c25b5m0000gn/T/tmpbdlrkj0i']\n"
     ]
    }
   ],
   "source": [
    "# set root dir in system path\n",
    "import sys\n",
    "sys.path.insert(0, '/Users/dish/Code/codeQual')\n",
    "print(sys.path)\n",
    "from codeQual import set_device\n",
    "device = set_device.set()"
   ]
  },
  {
   "cell_type": "code",
   "execution_count": 57,
   "metadata": {},
   "outputs": [],
   "source": [
    "MODEL_NAME = '../experiments/epoch10batch1wr0.2data1/checkpoint-13100'\n",
    "DATESET = '../data/hf_code_qual_dataset_v1'"
   ]
  },
  {
   "cell_type": "code",
   "execution_count": 58,
   "metadata": {},
   "outputs": [
    {
     "data": {
      "text/plain": [
       "1"
      ]
     },
     "execution_count": 58,
     "metadata": {},
     "output_type": "execute_result"
    }
   ],
   "source": [
    "from transformers import AutoModelForSequenceClassification, AutoTokenizer\n",
    "model_name = MODEL_NAME\n",
    "num_classes = 3\n",
    "model = AutoModelForSequenceClassification.from_pretrained(model_name, num_labels=num_classes, max_length=512).to(device)\n",
    "tokenizer = AutoTokenizer.from_pretrained(\"microsoft/codebert-base\")\n",
    "tokenizer.add_special_tokens({\"pad_token\": \"[PAD]\"})"
   ]
  },
  {
   "cell_type": "code",
   "execution_count": 59,
   "metadata": {},
   "outputs": [
    {
     "data": {
      "text/plain": [
       "DatasetDict({\n",
       "    train: Dataset({\n",
       "        features: ['problem_id', 'problem', 'submission_id', 'submission', 'label', 'input_ids', 'attention_mask'],\n",
       "        num_rows: 1650\n",
       "    })\n",
       "    validation: Dataset({\n",
       "        features: ['problem_id', 'problem', 'submission_id', 'submission', 'label', 'input_ids', 'attention_mask'],\n",
       "        num_rows: 300\n",
       "    })\n",
       "    test: Dataset({\n",
       "        features: ['problem_id', 'problem', 'submission_id', 'submission', 'label', 'input_ids', 'attention_mask'],\n",
       "        num_rows: 300\n",
       "    })\n",
       "})"
      ]
     },
     "execution_count": 59,
     "metadata": {},
     "output_type": "execute_result"
    }
   ],
   "source": [
    "from transformers import AutoTokenizer\n",
    "from datasets import Dataset, DatasetDict, load_dataset\n",
    "code_qual_dataset = DatasetDict.load_from_disk(DATESET)\n",
    "\n",
    "def tokenize(batch):\n",
    "    return tokenizer(batch[\"submission\"], padding=True, truncation=True)\n",
    "\n",
    "\n",
    "codequal_encoded: DatasetDict = code_qual_dataset.map(tokenize, batched=True, batch_size=None)\n",
    "codequal_encoded"
   ]
  },
  {
   "cell_type": "code",
   "execution_count": 60,
   "metadata": {},
   "outputs": [],
   "source": [
    "from torch.nn.functional import cross_entropy\n",
    "import torch\n",
    "\n",
    "def forward_pass_with_label(batch):\n",
    "    # Place all input tensors on the same device as the model\n",
    "    inputs = {k:v.to(device) for k,v in batch.items()\n",
    "              if k in tokenizer.model_input_names}\n",
    "\n",
    "    with torch.no_grad():\n",
    "        output = model(**inputs)\n",
    "        pred_label = torch.argmax(output.logits, axis=-1)\n",
    "        loss = cross_entropy(output.logits, batch[\"label\"].to(device),\n",
    "                             reduction=\"none\")\n",
    "    # Place outputs on CPU for compatibility with other dataset columns\n",
    "    return {\"loss\": loss.cpu().numpy(),\n",
    "            \"predicted_label\": pred_label.cpu().numpy()}"
   ]
  },
  {
   "cell_type": "code",
   "execution_count": 61,
   "metadata": {},
   "outputs": [
    {
     "name": "stderr",
     "output_type": "stream",
     "text": [
      "Map: 100%|██████████| 300/300 [00:06<00:00, 47.48 examples/s]\n",
      "Map: 100%|██████████| 300/300 [00:06<00:00, 47.46 examples/s]\n"
     ]
    },
    {
     "data": {
      "text/plain": [
       "DatasetDict({\n",
       "    train: Dataset({\n",
       "        features: ['problem_id', 'problem', 'submission_id', 'submission', 'label', 'input_ids', 'attention_mask'],\n",
       "        num_rows: 1650\n",
       "    })\n",
       "    validation: Dataset({\n",
       "        features: ['problem_id', 'problem', 'submission_id', 'submission', 'label', 'input_ids', 'attention_mask', 'loss', 'predicted_label'],\n",
       "        num_rows: 300\n",
       "    })\n",
       "    test: Dataset({\n",
       "        features: ['problem_id', 'problem', 'submission_id', 'submission', 'label', 'input_ids', 'attention_mask', 'loss', 'predicted_label'],\n",
       "        num_rows: 300\n",
       "    })\n",
       "})"
      ]
     },
     "execution_count": 61,
     "metadata": {},
     "output_type": "execute_result"
    }
   ],
   "source": [
    "# Convert our dataset back to PyTorch tensors\n",
    "\n",
    "codequal_encoded.set_format(\"torch\", columns=[\"input_ids\", \"attention_mask\", \"label\"])\n",
    "codequal_encoded[\"test\"] = codequal_encoded[\"test\"].map(forward_pass_with_label, batched=True, batch_size=4)\n",
    "codequal_encoded[\"validation\"] = codequal_encoded[\"validation\"].map(forward_pass_with_label, batched=True, batch_size=4)\n",
    "codequal_encoded"
   ]
  },
  {
   "cell_type": "code",
   "execution_count": 62,
   "metadata": {},
   "outputs": [
    {
     "data": {
      "text/html": [
       "<div>\n",
       "<style scoped>\n",
       "    .dataframe tbody tr th:only-of-type {\n",
       "        vertical-align: middle;\n",
       "    }\n",
       "\n",
       "    .dataframe tbody tr th {\n",
       "        vertical-align: top;\n",
       "    }\n",
       "\n",
       "    .dataframe thead th {\n",
       "        text-align: right;\n",
       "    }\n",
       "</style>\n",
       "<table border=\"1\" class=\"dataframe\">\n",
       "  <thead>\n",
       "    <tr style=\"text-align: right;\">\n",
       "      <th></th>\n",
       "      <th>problem</th>\n",
       "      <th>submission</th>\n",
       "      <th>label</th>\n",
       "      <th>predicted_label</th>\n",
       "      <th>loss</th>\n",
       "    </tr>\n",
       "  </thead>\n",
       "  <tbody>\n",
       "    <tr>\n",
       "      <th>0</th>\n",
       "      <td>An integer N is a multiple of 9 if and only if...</td>\n",
       "      <td>target = input()\\nsum = 0\\nfor each in target:...</td>\n",
       "      <td>2</td>\n",
       "      <td>0</td>\n",
       "      <td>5.999688</td>\n",
       "    </tr>\n",
       "    <tr>\n",
       "      <th>1</th>\n",
       "      <td>Snuke is having a barbeque party.\\nAt the part...</td>\n",
       "      <td>import sys\\ninput=sys.stdin.readline\\n\\nN = in...</td>\n",
       "      <td>2</td>\n",
       "      <td>2</td>\n",
       "      <td>0.099974</td>\n",
       "    </tr>\n",
       "    <tr>\n",
       "      <th>2</th>\n",
       "      <td>Write a program which prints $n$-th fibonacci ...</td>\n",
       "      <td>n = int(input())\\nl = [0 for _ in range(10**4)...</td>\n",
       "      <td>2</td>\n",
       "      <td>0</td>\n",
       "      <td>6.211662</td>\n",
       "    </tr>\n",
       "    <tr>\n",
       "      <th>3</th>\n",
       "      <td>Takahashi is meeting up with Aoki.\\nThey have ...</td>\n",
       "      <td>D, T, S = map(int, input().split())\\n\\nif (D /...</td>\n",
       "      <td>2</td>\n",
       "      <td>1</td>\n",
       "      <td>7.154482</td>\n",
       "    </tr>\n",
       "    <tr>\n",
       "      <th>4</th>\n",
       "      <td>You can obtain profits from foreign exchange m...</td>\n",
       "      <td>s_max = -float('inf')\\ns = 0\\nfor i in range(i...</td>\n",
       "      <td>2</td>\n",
       "      <td>2</td>\n",
       "      <td>0.005213</td>\n",
       "    </tr>\n",
       "    <tr>\n",
       "      <th>...</th>\n",
       "      <td>...</td>\n",
       "      <td>...</td>\n",
       "      <td>...</td>\n",
       "      <td>...</td>\n",
       "      <td>...</td>\n",
       "    </tr>\n",
       "    <tr>\n",
       "      <th>295</th>\n",
       "      <td>There are N positive integers written on a bla...</td>\n",
       "      <td>n=int(input())\\na=[int(i)for i in input().spli...</td>\n",
       "      <td>0</td>\n",
       "      <td>0</td>\n",
       "      <td>0.133195</td>\n",
       "    </tr>\n",
       "    <tr>\n",
       "      <th>296</th>\n",
       "      <td>Given are two strings S and T.\\nLet us change ...</td>\n",
       "      <td>S = list(str(input()))\\nT = list(str(input()))...</td>\n",
       "      <td>0</td>\n",
       "      <td>0</td>\n",
       "      <td>0.000810</td>\n",
       "    </tr>\n",
       "    <tr>\n",
       "      <th>297</th>\n",
       "      <td>In some other world, today is Christmas.\\nMr. ...</td>\n",
       "      <td>N, X = map(int, input().split())\\ndim, ans = [...</td>\n",
       "      <td>0</td>\n",
       "      <td>0</td>\n",
       "      <td>0.002860</td>\n",
       "    </tr>\n",
       "    <tr>\n",
       "      <th>298</th>\n",
       "      <td>There are N integers written on a blackboard. ...</td>\n",
       "      <td>n = int(input())\\nA = list(map(int,input().spl...</td>\n",
       "      <td>0</td>\n",
       "      <td>0</td>\n",
       "      <td>0.007270</td>\n",
       "    </tr>\n",
       "    <tr>\n",
       "      <th>299</th>\n",
       "      <td>Your friend gave you a dequeue D as a birthday...</td>\n",
       "      <td>N,K=map(int,input().split())\\nv=list(map(int,i...</td>\n",
       "      <td>0</td>\n",
       "      <td>0</td>\n",
       "      <td>0.008335</td>\n",
       "    </tr>\n",
       "  </tbody>\n",
       "</table>\n",
       "<p>300 rows × 5 columns</p>\n",
       "</div>"
      ],
      "text/plain": [
       "                                               problem  \\\n",
       "0    An integer N is a multiple of 9 if and only if...   \n",
       "1    Snuke is having a barbeque party.\\nAt the part...   \n",
       "2    Write a program which prints $n$-th fibonacci ...   \n",
       "3    Takahashi is meeting up with Aoki.\\nThey have ...   \n",
       "4    You can obtain profits from foreign exchange m...   \n",
       "..                                                 ...   \n",
       "295  There are N positive integers written on a bla...   \n",
       "296  Given are two strings S and T.\\nLet us change ...   \n",
       "297  In some other world, today is Christmas.\\nMr. ...   \n",
       "298  There are N integers written on a blackboard. ...   \n",
       "299  Your friend gave you a dequeue D as a birthday...   \n",
       "\n",
       "                                            submission  label  \\\n",
       "0    target = input()\\nsum = 0\\nfor each in target:...      2   \n",
       "1    import sys\\ninput=sys.stdin.readline\\n\\nN = in...      2   \n",
       "2    n = int(input())\\nl = [0 for _ in range(10**4)...      2   \n",
       "3    D, T, S = map(int, input().split())\\n\\nif (D /...      2   \n",
       "4    s_max = -float('inf')\\ns = 0\\nfor i in range(i...      2   \n",
       "..                                                 ...    ...   \n",
       "295  n=int(input())\\na=[int(i)for i in input().spli...      0   \n",
       "296  S = list(str(input()))\\nT = list(str(input()))...      0   \n",
       "297  N, X = map(int, input().split())\\ndim, ans = [...      0   \n",
       "298  n = int(input())\\nA = list(map(int,input().spl...      0   \n",
       "299  N,K=map(int,input().split())\\nv=list(map(int,i...      0   \n",
       "\n",
       "     predicted_label      loss  \n",
       "0                  0  5.999688  \n",
       "1                  2  0.099974  \n",
       "2                  0  6.211662  \n",
       "3                  1  7.154482  \n",
       "4                  2  0.005213  \n",
       "..               ...       ...  \n",
       "295                0  0.133195  \n",
       "296                0  0.000810  \n",
       "297                0  0.002860  \n",
       "298                0  0.007270  \n",
       "299                0  0.008335  \n",
       "\n",
       "[300 rows x 5 columns]"
      ]
     },
     "execution_count": 62,
     "metadata": {},
     "output_type": "execute_result"
    }
   ],
   "source": [
    "codequal_encoded.set_format(\"pandas\")\n",
    "cols = [\"problem\", \"submission\", \"label\", \"predicted_label\", \"loss\"]\n",
    "df_test = codequal_encoded[\"test\"][:][cols]\n",
    "df_val = codequal_encoded[\"validation\"][:][cols]\n",
    "df_test"
   ]
  },
  {
   "cell_type": "code",
   "execution_count": 63,
   "metadata": {},
   "outputs": [
    {
     "data": {
      "text/html": [
       "<div>\n",
       "<style scoped>\n",
       "    .dataframe tbody tr th:only-of-type {\n",
       "        vertical-align: middle;\n",
       "    }\n",
       "\n",
       "    .dataframe tbody tr th {\n",
       "        vertical-align: top;\n",
       "    }\n",
       "\n",
       "    .dataframe thead th {\n",
       "        text-align: right;\n",
       "    }\n",
       "</style>\n",
       "<table border=\"1\" class=\"dataframe\">\n",
       "  <thead>\n",
       "    <tr style=\"text-align: right;\">\n",
       "      <th></th>\n",
       "      <th>problem</th>\n",
       "      <th>submission</th>\n",
       "      <th>label</th>\n",
       "      <th>predicted_label</th>\n",
       "      <th>loss</th>\n",
       "    </tr>\n",
       "  </thead>\n",
       "  <tbody>\n",
       "    <tr>\n",
       "      <th>39</th>\n",
       "      <td>Snuke is having a barbeque party.\\nAt the part...</td>\n",
       "      <td>n = int(input())\\nL = list(map(int, input().sp...</td>\n",
       "      <td>2</td>\n",
       "      <td>0</td>\n",
       "      <td>8.889094</td>\n",
       "    </tr>\n",
       "    <tr>\n",
       "      <th>67</th>\n",
       "      <td>N people are arranged in a row from left to ri...</td>\n",
       "      <td>n, k = map(int, input().split())\\ns = input()\\...</td>\n",
       "      <td>2</td>\n",
       "      <td>0</td>\n",
       "      <td>8.626630</td>\n",
       "    </tr>\n",
       "    <tr>\n",
       "      <th>34</th>\n",
       "      <td>You are an immigration officer in the Kingdom ...</td>\n",
       "      <td># -*- coding: utf-8 -*-\\nN = int(input())\\nA =...</td>\n",
       "      <td>2</td>\n",
       "      <td>0</td>\n",
       "      <td>8.459834</td>\n",
       "    </tr>\n",
       "    <tr>\n",
       "      <th>274</th>\n",
       "      <td>We will play a one-player game using a number ...</td>\n",
       "      <td>n, m = map(int, input().split())\\nx = list(map...</td>\n",
       "      <td>0</td>\n",
       "      <td>1</td>\n",
       "      <td>8.381775</td>\n",
       "    </tr>\n",
       "    <tr>\n",
       "      <th>52</th>\n",
       "      <td>Takahashi lives in another world. There are sl...</td>\n",
       "      <td>N = int(input())\\nA = list(map(int, input().sp...</td>\n",
       "      <td>2</td>\n",
       "      <td>0</td>\n",
       "      <td>8.352122</td>\n",
       "    </tr>\n",
       "    <tr>\n",
       "      <th>98</th>\n",
       "      <td>Given is a string S. Each character in S is ei...</td>\n",
       "      <td>\"\"\"\\ndp[i][j] =&gt; 下からi桁目まで見る。あまりがjになるような数。\\n\"\"\"...</td>\n",
       "      <td>2</td>\n",
       "      <td>0</td>\n",
       "      <td>8.334899</td>\n",
       "    </tr>\n",
       "    <tr>\n",
       "      <th>96</th>\n",
       "      <td>You are given N items.\\nThe value of the i-th ...</td>\n",
       "      <td>import math\\n\\ndef nCr(n,r):\\n    return math....</td>\n",
       "      <td>2</td>\n",
       "      <td>0</td>\n",
       "      <td>8.084675</td>\n",
       "    </tr>\n",
       "    <tr>\n",
       "      <th>11</th>\n",
       "      <td>There are N Reversi pieces arranged in a row. ...</td>\n",
       "      <td>from math import ceil,floor,comb,factorial,gcd...</td>\n",
       "      <td>2</td>\n",
       "      <td>0</td>\n",
       "      <td>8.077841</td>\n",
       "    </tr>\n",
       "    <tr>\n",
       "      <th>219</th>\n",
       "      <td>You are given a string S consisting of lowerca...</td>\n",
       "      <td>S = str(input())\\ni = 0\\nerror = 0\\n\\nwhile i ...</td>\n",
       "      <td>0</td>\n",
       "      <td>2</td>\n",
       "      <td>8.040564</td>\n",
       "    </tr>\n",
       "    <tr>\n",
       "      <th>249</th>\n",
       "      <td>There are N children, numbered 1, 2, ..., N.\\n...</td>\n",
       "      <td>import sys\\n\\nsys.setrecursionlimit(10 ** 8)\\n...</td>\n",
       "      <td>0</td>\n",
       "      <td>2</td>\n",
       "      <td>8.028150</td>\n",
       "    </tr>\n",
       "  </tbody>\n",
       "</table>\n",
       "</div>"
      ],
      "text/plain": [
       "                                               problem  \\\n",
       "39   Snuke is having a barbeque party.\\nAt the part...   \n",
       "67   N people are arranged in a row from left to ri...   \n",
       "34   You are an immigration officer in the Kingdom ...   \n",
       "274  We will play a one-player game using a number ...   \n",
       "52   Takahashi lives in another world. There are sl...   \n",
       "98   Given is a string S. Each character in S is ei...   \n",
       "96   You are given N items.\\nThe value of the i-th ...   \n",
       "11   There are N Reversi pieces arranged in a row. ...   \n",
       "219  You are given a string S consisting of lowerca...   \n",
       "249  There are N children, numbered 1, 2, ..., N.\\n...   \n",
       "\n",
       "                                            submission  label  \\\n",
       "39   n = int(input())\\nL = list(map(int, input().sp...      2   \n",
       "67   n, k = map(int, input().split())\\ns = input()\\...      2   \n",
       "34   # -*- coding: utf-8 -*-\\nN = int(input())\\nA =...      2   \n",
       "274  n, m = map(int, input().split())\\nx = list(map...      0   \n",
       "52   N = int(input())\\nA = list(map(int, input().sp...      2   \n",
       "98   \"\"\"\\ndp[i][j] => 下からi桁目まで見る。あまりがjになるような数。\\n\"\"\"...      2   \n",
       "96   import math\\n\\ndef nCr(n,r):\\n    return math....      2   \n",
       "11   from math import ceil,floor,comb,factorial,gcd...      2   \n",
       "219  S = str(input())\\ni = 0\\nerror = 0\\n\\nwhile i ...      0   \n",
       "249  import sys\\n\\nsys.setrecursionlimit(10 ** 8)\\n...      0   \n",
       "\n",
       "     predicted_label      loss  \n",
       "39                 0  8.889094  \n",
       "67                 0  8.626630  \n",
       "34                 0  8.459834  \n",
       "274                1  8.381775  \n",
       "52                 0  8.352122  \n",
       "98                 0  8.334899  \n",
       "96                 0  8.084675  \n",
       "11                 0  8.077841  \n",
       "219                2  8.040564  \n",
       "249                2  8.028150  "
      ]
     },
     "execution_count": 63,
     "metadata": {},
     "output_type": "execute_result"
    }
   ],
   "source": [
    "df_loss_desc = df_test.sort_values(\"loss\", ascending=False).head(10)\n",
    "df_loss_desc"
   ]
  },
  {
   "cell_type": "code",
   "execution_count": 64,
   "metadata": {},
   "outputs": [],
   "source": [
    "# save df_loss_desc to latex table\n",
    "# truncate the submission and problem column to 50 characters\n",
    "df_loss_desc['submission'] = df_loss_desc['submission'].str[:50] + '...'\n",
    "df_loss_desc['problem'] = df_loss_desc['problem'].str[:50] + '...'\n",
    "df_loss_desc.to_latex('df_loss_desc.tex', index=False)"
   ]
  },
  {
   "cell_type": "code",
   "execution_count": 65,
   "metadata": {},
   "outputs": [
    {
     "data": {
      "text/html": [
       "<div>\n",
       "<style scoped>\n",
       "    .dataframe tbody tr th:only-of-type {\n",
       "        vertical-align: middle;\n",
       "    }\n",
       "\n",
       "    .dataframe tbody tr th {\n",
       "        vertical-align: top;\n",
       "    }\n",
       "\n",
       "    .dataframe thead th {\n",
       "        text-align: right;\n",
       "    }\n",
       "</style>\n",
       "<table border=\"1\" class=\"dataframe\">\n",
       "  <thead>\n",
       "    <tr style=\"text-align: right;\">\n",
       "      <th></th>\n",
       "      <th>problem</th>\n",
       "      <th>submission</th>\n",
       "      <th>label</th>\n",
       "      <th>predicted_label</th>\n",
       "      <th>loss</th>\n",
       "    </tr>\n",
       "  </thead>\n",
       "  <tbody>\n",
       "    <tr>\n",
       "      <th>291</th>\n",
       "      <td>There are N positive integers written on a bla...</td>\n",
       "      <td>N = int(input())\\nA = list(map(int, input().sp...</td>\n",
       "      <td>0</td>\n",
       "      <td>0</td>\n",
       "      <td>0.000708</td>\n",
       "    </tr>\n",
       "    <tr>\n",
       "      <th>245</th>\n",
       "      <td>There are N positive integers written on a bla...</td>\n",
       "      <td>n=int(input())\\na=list(map(int, input().split(...</td>\n",
       "      <td>0</td>\n",
       "      <td>0</td>\n",
       "      <td>0.000712</td>\n",
       "    </tr>\n",
       "    <tr>\n",
       "      <th>214</th>\n",
       "      <td>We have sticks numbered 1, \\cdots, N. The leng...</td>\n",
       "      <td># coding: utf-8\\nn = int(input())\\nL = list(ma...</td>\n",
       "      <td>0</td>\n",
       "      <td>0</td>\n",
       "      <td>0.000715</td>\n",
       "    </tr>\n",
       "    <tr>\n",
       "      <th>206</th>\n",
       "      <td>In this problem, we only consider strings cons...</td>\n",
       "      <td>def p(S):\\n    str = \"\"\\n    for s in S:\\n    ...</td>\n",
       "      <td>0</td>\n",
       "      <td>0</td>\n",
       "      <td>0.000715</td>\n",
       "    </tr>\n",
       "    <tr>\n",
       "      <th>269</th>\n",
       "      <td>There are N positive integers written on a bla...</td>\n",
       "      <td>N  = int(input())\\nx = map(int,input().split()...</td>\n",
       "      <td>0</td>\n",
       "      <td>0</td>\n",
       "      <td>0.000728</td>\n",
       "    </tr>\n",
       "    <tr>\n",
       "      <th>255</th>\n",
       "      <td>Takahashi will take part in an eating contest....</td>\n",
       "      <td>import sys\\n\\nreadline = sys.stdin.readline\\nM...</td>\n",
       "      <td>0</td>\n",
       "      <td>0</td>\n",
       "      <td>0.000733</td>\n",
       "    </tr>\n",
       "    <tr>\n",
       "      <th>248</th>\n",
       "      <td>You are given a string S consisting of lowerca...</td>\n",
       "      <td>s = input()\\nS = ''.join(list(reversed(s)))\\nN...</td>\n",
       "      <td>0</td>\n",
       "      <td>0</td>\n",
       "      <td>0.000739</td>\n",
       "    </tr>\n",
       "    <tr>\n",
       "      <th>272</th>\n",
       "      <td>We have a sequence of N integers A~=~A_0,~A_1,...</td>\n",
       "      <td>n,k = map(int,input().split())\\na = list(map(i...</td>\n",
       "      <td>0</td>\n",
       "      <td>0</td>\n",
       "      <td>0.000739</td>\n",
       "    </tr>\n",
       "    <tr>\n",
       "      <th>294</th>\n",
       "      <td>Tak has N cards. On the i-th (1 \\leq i \\leq N)...</td>\n",
       "      <td>n,*x=map(int,open(0).read().split())\\ny=[x[0]-...</td>\n",
       "      <td>0</td>\n",
       "      <td>0</td>\n",
       "      <td>0.000751</td>\n",
       "    </tr>\n",
       "    <tr>\n",
       "      <th>280</th>\n",
       "      <td>There are N positive integers written on a bla...</td>\n",
       "      <td>n = int(input())\\na = map(int, input().split()...</td>\n",
       "      <td>0</td>\n",
       "      <td>0</td>\n",
       "      <td>0.000758</td>\n",
       "    </tr>\n",
       "  </tbody>\n",
       "</table>\n",
       "</div>"
      ],
      "text/plain": [
       "                                               problem  \\\n",
       "291  There are N positive integers written on a bla...   \n",
       "245  There are N positive integers written on a bla...   \n",
       "214  We have sticks numbered 1, \\cdots, N. The leng...   \n",
       "206  In this problem, we only consider strings cons...   \n",
       "269  There are N positive integers written on a bla...   \n",
       "255  Takahashi will take part in an eating contest....   \n",
       "248  You are given a string S consisting of lowerca...   \n",
       "272  We have a sequence of N integers A~=~A_0,~A_1,...   \n",
       "294  Tak has N cards. On the i-th (1 \\leq i \\leq N)...   \n",
       "280  There are N positive integers written on a bla...   \n",
       "\n",
       "                                            submission  label  \\\n",
       "291  N = int(input())\\nA = list(map(int, input().sp...      0   \n",
       "245  n=int(input())\\na=list(map(int, input().split(...      0   \n",
       "214  # coding: utf-8\\nn = int(input())\\nL = list(ma...      0   \n",
       "206  def p(S):\\n    str = \"\"\\n    for s in S:\\n    ...      0   \n",
       "269  N  = int(input())\\nx = map(int,input().split()...      0   \n",
       "255  import sys\\n\\nreadline = sys.stdin.readline\\nM...      0   \n",
       "248  s = input()\\nS = ''.join(list(reversed(s)))\\nN...      0   \n",
       "272  n,k = map(int,input().split())\\na = list(map(i...      0   \n",
       "294  n,*x=map(int,open(0).read().split())\\ny=[x[0]-...      0   \n",
       "280  n = int(input())\\na = map(int, input().split()...      0   \n",
       "\n",
       "     predicted_label      loss  \n",
       "291                0  0.000708  \n",
       "245                0  0.000712  \n",
       "214                0  0.000715  \n",
       "206                0  0.000715  \n",
       "269                0  0.000728  \n",
       "255                0  0.000733  \n",
       "248                0  0.000739  \n",
       "272                0  0.000739  \n",
       "294                0  0.000751  \n",
       "280                0  0.000758  "
      ]
     },
     "execution_count": 65,
     "metadata": {},
     "output_type": "execute_result"
    }
   ],
   "source": [
    "df_loss_asc = df_test.sort_values(\"loss\", ascending=True).head(10)\n",
    "df_loss_asc"
   ]
  },
  {
   "cell_type": "code",
   "execution_count": 66,
   "metadata": {},
   "outputs": [],
   "source": [
    "# save df_loss_desc to latex table\n",
    "# truncate the submission and problem column to 50 characters\n",
    "df_loss_asc['submission'] = df_loss_asc['submission'].str[:50] + '...'\n",
    "df_loss_asc['problem'] = df_loss_asc['problem'].str[:50] + '...'\n",
    "df_loss_asc.to_latex('df_loss_asc.tex', index=False)"
   ]
  },
  {
   "cell_type": "code",
   "execution_count": 67,
   "metadata": {},
   "outputs": [],
   "source": [
    "from sklearn.metrics import accuracy_score, f1_score, precision_score, recall_score\n",
    "\n",
    "def evaluate(y_true, y_pred):\n",
    "    accuracy = accuracy_score(y_true, y_pred)\n",
    "    f1 = f1_score(y_true, y_pred, average='weighted')\n",
    "    precision = precision_score(y_true, y_pred, average='weighted')\n",
    "    recall = recall_score(y_true, y_pred, average='weighted')\n",
    "\n",
    "    return accuracy, f1, precision, recall"
   ]
  },
  {
   "cell_type": "code",
   "execution_count": 68,
   "metadata": {},
   "outputs": [],
   "source": [
    "from sklearn.metrics import ConfusionMatrixDisplay, confusion_matrix\n",
    "import matplotlib.pyplot as plt\n",
    "\n",
    "def plot_confusion_matrix(y_preds, y_true, labels):\n",
    "    cm = confusion_matrix(y_true, y_preds, normalize=\"true\")\n",
    "    fig, ax = plt.subplots(figsize=(6, 6))\n",
    "    disp = ConfusionMatrixDisplay(confusion_matrix=cm, display_labels=labels)\n",
    "    disp.plot(cmap=\"Blues\", values_format=\".2f\", ax=ax, colorbar=False)\n",
    "    plt.title(\"Normalized confusion matrix\")\n",
    "    plt.show()"
   ]
  },
  {
   "cell_type": "code",
   "execution_count": 69,
   "metadata": {},
   "outputs": [
    {
     "data": {
      "text/plain": [
       "((300,), (300,))"
      ]
     },
     "execution_count": 69,
     "metadata": {},
     "output_type": "execute_result"
    }
   ],
   "source": [
    "import numpy as np\n",
    "\n",
    "Y_test = np.array(df_test[\"label\"])\n",
    "Y_test_preds = np.array(df_test[\"predicted_label\"])\n",
    "\n",
    "Y_val = np.array(df_val[\"label\"])\n",
    "Y_val_preds = np.array(df_val[\"predicted_label\"])\n",
    "\n",
    "Y_test.shape, Y_test_preds.shape"
   ]
  },
  {
   "cell_type": "code",
   "execution_count": 70,
   "metadata": {},
   "outputs": [
    {
     "name": "stdout",
     "output_type": "stream",
     "text": [
      "Test scores:\n",
      "(0.5033333333333333, 0.4872398964981229, 0.49735135961970645, 0.5033333333333333)\n",
      "Validation scores:\n",
      "(0.5666666666666667, 0.5565489138537185, 0.5588857886825402, 0.5666666666666667)\n"
     ]
    }
   ],
   "source": [
    "print(\"Test scores:\")\n",
    "print(evaluate(Y_test, Y_test_preds))\n",
    "print(\"Validation scores:\")\n",
    "print(evaluate(Y_val, Y_val_preds))"
   ]
  },
  {
   "cell_type": "code",
   "execution_count": 71,
   "metadata": {},
   "outputs": [
    {
     "name": "stdout",
     "output_type": "stream",
     "text": [
      "['low', 'average', 'high']\n"
     ]
    },
    {
     "data": {
      "image/png": "[encoded data removed]",
      "text/plain": [
       "<Figure size 600x600 with 1 Axes>"
      ]
     },
     "metadata": {},
     "output_type": "display_data"
    }
   ],
   "source": [
    "labels = code_qual_dataset['train'].features[\"label\"].names\n",
    "print(labels)\n",
    "plot_confusion_matrix(Y_test_preds, Y_test, labels)"
   ]
  },
  {
   "cell_type": "code",
   "execution_count": 72,
   "metadata": {},
   "outputs": [
    {
     "data": {
      "image/png": "[encoded data removed]",
      "text/plain": [
       "<Figure size 600x600 with 1 Axes>"
      ]
     },
     "metadata": {},
     "output_type": "display_data"
    }
   ],
   "source": [
    "plot_confusion_matrix(Y_val_preds, Y_val, labels)"
   ]
  },
  {
   "cell_type": "markdown",
   "metadata": {},
   "source": [
    "# Side by side comparison of confusion matrices between the baseline and the CodeQualBert\n",
    "\n",
    "| Baseline | CodeQualBert |\n",
    "| -------- | ------------ |\n",
    "| ![Baseline](../images/confusion_matrix_baseline.png) |  ![CodeQualBert](../images/confusion_matrix_codequalbert.png) |\n"
   ]
  }
 ],
 "metadata": {
  "kernelspec": {
   "display_name": "codequal",
   "language": "python",
   "name": "python3"
  },
  "language_info": {
   "codemirror_mode": {
    "name": "ipython",
    "version": 3
   },
   "file_extension": ".py",
   "mimetype": "text/x-python",
   "name": "python",
   "nbconvert_exporter": "python",
   "pygments_lexer": "ipython3",
   "version": "3.10.13"
  }
 },
 "nbformat": 4,
 "nbformat_minor": 2
}
